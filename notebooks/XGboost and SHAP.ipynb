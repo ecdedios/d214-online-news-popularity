{
 "cells": [
  {
   "cell_type": "code",
   "execution_count": null,
   "id": "b4dfed54-b5c6-4b4e-9a67-e4b6ce13ef28",
   "metadata": {},
   "outputs": [],
   "source": [
    "# setting the random seed for reproducibility\n",
    "import random\n",
    "random.seed(493)\n",
    "\n",
    "# for manipulating dataframes\n",
    "import pandas as pd\n",
    "import numpy as np\n",
    "\n",
    "# for modeling\n",
    "from sklearn.model_selection import train_test_split\n",
    "from sklearn import metrics\n",
    "import statsmodels.api as sm\n",
    "from sklearn.metrics import confusion_matrix\n",
    "from sklearn.metrics import classification_report\n",
    "from sklearn.metrics import roc_auc_score\n",
    "from sklearn.metrics import roc_curve\n",
    "from sklearn.metrics import accuracy_score\n",
    "from sklearn.metrics import make_scorer\n",
    "import xgboost as xgb\n",
    "from xgboost import XGBClassifier\n",
    "import shap\n",
    "\n",
    "# for visualizations\n",
    "%matplotlib inline\n",
    "import matplotlib.pyplot as plt\n",
    "import seaborn as sns\n",
    "sns.set(style=\"whitegrid\")\n",
    "\n",
    "# to print out all the outputs\n",
    "from IPython.core.interactiveshell import InteractiveShell\n",
    "InteractiveShell.ast_node_interactivity = \"all\"\n",
    "\n",
    "# set display options\n",
    "pd.set_option('display.max_columns', None)\n",
    "pd.set_option('display.max_rows', None)\n",
    "pd.set_option('display.max_colwidth', None)\n",
    "\n",
    "# print the JS visualization code to the notebook\n",
    "shap.initjs()"
   ]
  },
  {
   "cell_type": "code",
   "execution_count": null,
   "id": "72ee1fc5-c8c2-4589-ac5d-3904430f47b1",
   "metadata": {},
   "outputs": [],
   "source": [
    "# # Read a csv file\n",
    "# df = pd.read_csv('../data/in/OnlineNewsPopularity.csv')"
   ]
  },
  {
   "cell_type": "code",
   "execution_count": null,
   "id": "40bb3cbd-78d5-4b89-8ee2-287195fcd12f",
   "metadata": {},
   "outputs": [],
   "source": [
    "# df.head()\n",
    "# df.info()\n",
    "# df.shape"
   ]
  },
  {
   "cell_type": "code",
   "execution_count": null,
   "id": "1886d79a-f9d5-4432-9ac9-40fc079085f6",
   "metadata": {},
   "outputs": [],
   "source": [
    "def show_missing(df):\n",
    "    \"\"\"\n",
    "    Takes a dataframe and returns a dataframe with stats\n",
    "    on missing and null values with their percentages.\n",
    "    \"\"\"\n",
    "    null_count = df.isnull().sum()\n",
    "    null_percentage = (null_count / df.shape[0]) * 100\n",
    "    empty_count = pd.Series(((df == ' ') | (df == '')).sum())\n",
    "    empty_percentage = (empty_count / df.shape[0]) * 100\n",
    "    nan_count = pd.Series(((df == 'nan') | (df == 'NaN')).sum())\n",
    "    nan_percentage = (nan_count / df.shape[0]) * 100\n",
    "    dfx = pd.DataFrame({'num_missing': null_count, 'missing_percentage': null_percentage,\n",
    "                         'num_empty': empty_count, 'empty_percentage': empty_percentage,\n",
    "                         'nan_count': nan_count, 'nan_percentage': nan_percentage})\n",
    "    return dfx\n",
    "\n",
    "# show_missing(df)"
   ]
  },
  {
   "cell_type": "code",
   "execution_count": null,
   "id": "f14465e9-e0cf-42f0-85d8-104c4c5ec9f8",
   "metadata": {},
   "outputs": [],
   "source": [
    "# df.columns"
   ]
  },
  {
   "cell_type": "code",
   "execution_count": null,
   "id": "2d056602-860d-48a0-9825-e9551f3a9f93",
   "metadata": {},
   "outputs": [],
   "source": [
    "# for col in df.columns:\n",
    "#     df = df.rename(columns={col:(col.strip(' '))})\n",
    "\n",
    "# df = df.rename(columns={'self_reference_avg_sharess':'self_reference_avg_shares'})\n",
    "\n",
    "# df = df.drop_duplicates(keep = False)\n",
    "\n",
    "# # creates a new column for the new target variable and drop the old one\n",
    "# df['target'] = np.where(df['shares'] > 1400, '1', '0')\n",
    "# df = df.drop(columns=['shares'])\n",
    "\n",
    "# df.to_csv('../data/out/online_news_popularity_clean.csv', index=False)"
   ]
  },
  {
   "cell_type": "code",
   "execution_count": null,
   "id": "3b1940fe-408d-4534-88b5-8036b5e81e02",
   "metadata": {},
   "outputs": [],
   "source": [
    "# Read a csv file\n",
    "df = pd.read_csv('../data/out/online_news_popularity_clean.csv')"
   ]
  },
  {
   "cell_type": "code",
   "execution_count": null,
   "id": "11eeb4d7-e904-47b0-821d-d324c9899e45",
   "metadata": {},
   "outputs": [],
   "source": [
    "df.head()\n",
    "df.info()\n",
    "df.shape"
   ]
  },
  {
   "cell_type": "code",
   "execution_count": null,
   "id": "b0e82442-c610-44bb-8e69-a036bcd13cbe",
   "metadata": {},
   "outputs": [],
   "source": [
    "sns.countplot(x='target', data=df)"
   ]
  },
  {
   "cell_type": "code",
   "execution_count": null,
   "id": "56989f1f-59c8-4914-a9ac-8e0f03cc0f15",
   "metadata": {},
   "outputs": [],
   "source": [
    "final_df = df.drop(columns=['url', 'timedelta'])"
   ]
  },
  {
   "cell_type": "code",
   "execution_count": null,
   "id": "537f0a03-7a1a-4a8f-a7fe-a27bbed90c1e",
   "metadata": {},
   "outputs": [],
   "source": [
    "X = final_df.loc[:, final_df.columns != 'target']\n",
    "y = final_df.loc[:, final_df.columns == 'target']"
   ]
  },
  {
   "cell_type": "code",
   "execution_count": null,
   "id": "6ec24da6-ffe5-4e66-8149-7f0bae3146e5",
   "metadata": {},
   "outputs": [],
   "source": [
    "X_train, X_test, y_train, y_test = train_test_split(X, y, test_size=0.3, random_state=493)"
   ]
  },
  {
   "cell_type": "code",
   "execution_count": null,
   "id": "79524433-ade6-43a3-8031-1de9a174518c",
   "metadata": {},
   "outputs": [],
   "source": [
    "xgbc = XGBClassifier(colsample_bytree=1,\n",
    "                     gamma=0,\n",
    "                     learning_rate=0.1,\n",
    "                     max_depth=4,\n",
    "                     n_estimators=200,\n",
    "                     tree_method = 'gpu_hist'\n",
    "                    ) "
   ]
  },
  {
   "cell_type": "code",
   "execution_count": null,
   "id": "f4d2117f-54d8-475b-82c7-4d307c4df6e6",
   "metadata": {},
   "outputs": [],
   "source": [
    "xgbc.fit(X_train, y_train)"
   ]
  },
  {
   "cell_type": "code",
   "execution_count": null,
   "id": "5b46e241-c836-4a76-8f9b-833f83cdd152",
   "metadata": {},
   "outputs": [],
   "source": [
    "xgbc_roc_auc = roc_auc_score(y_test, xgbc.predict(X_test))\n",
    "fpr, tpr, thresholds = roc_curve(y_test, xgbc.predict_proba(X_test)[:,1])\n",
    "plt.figure()\n",
    "plt.plot(fpr, tpr, label='Gradient Boosting (area = %0.2f)' % xgbc_roc_auc)\n",
    "plt.plot([0, 1], [0, 1],'r--')\n",
    "plt.xlim([0.0, 1.0])\n",
    "plt.ylim([0.0, 1.05])\n",
    "plt.xlabel('False Positive Rate')\n",
    "plt.ylabel('True Positive Rate')\n",
    "plt.title('Receiver operating characteristic')\n",
    "plt.legend(loc=\"lower right\")"
   ]
  },
  {
   "cell_type": "code",
   "execution_count": null,
   "id": "5882fbad-8089-46e6-a0d2-0e4316732f83",
   "metadata": {},
   "outputs": [],
   "source": [
    "# this takes a minute or two since we are explaining over 30 thousand samples in a model with over a thousand trees\n",
    "explainer = shap.TreeExplainer(xgbc)\n",
    "shap_values = explainer.shap_values(X)"
   ]
  },
  {
   "cell_type": "code",
   "execution_count": null,
   "id": "e998e779-db88-4df5-8042-5079dc804172",
   "metadata": {},
   "outputs": [],
   "source": [
    "shap.force_plot(explainer.expected_value, shap_values[:1000,:], X_train.iloc[:1000,:])"
   ]
  },
  {
   "cell_type": "code",
   "execution_count": null,
   "id": "a156157e-fa2a-4edf-8d38-70ae2eee4ec3",
   "metadata": {},
   "outputs": [],
   "source": [
    "shap.summary_plot(shap_values, X_train, plot_type=\"bar\")"
   ]
  },
  {
   "cell_type": "code",
   "execution_count": null,
   "id": "a81e8803-aa37-4e45-bd42-a07039acc2b7",
   "metadata": {},
   "outputs": [],
   "source": [
    "shap.summary_plot(shap_values, X)"
   ]
  },
  {
   "cell_type": "code",
   "execution_count": null,
   "id": "1e26d087-2c5a-4a28-b029-25e6d3779c4a",
   "metadata": {
    "scrolled": true
   },
   "outputs": [],
   "source": [
    "for col in X_train.columns:\n",
    "    shap.dependence_plot(col, shap_values, X)"
   ]
  },
  {
   "cell_type": "code",
   "execution_count": null,
   "id": "cf2f385a-0236-4013-9e46-7b53aa99f3ff",
   "metadata": {},
   "outputs": [],
   "source": []
  },
  {
   "cell_type": "code",
   "execution_count": null,
   "id": "cf1166c7-6387-4f60-8ca7-c33ef8a378c8",
   "metadata": {},
   "outputs": [],
   "source": []
  },
  {
   "cell_type": "code",
   "execution_count": null,
   "id": "b9d79133-247e-4f0a-adc1-ac72775bab5c",
   "metadata": {},
   "outputs": [],
   "source": []
  },
  {
   "cell_type": "code",
   "execution_count": null,
   "id": "a3df872f-3503-4338-9d24-486a2f114390",
   "metadata": {},
   "outputs": [],
   "source": []
  },
  {
   "cell_type": "code",
   "execution_count": null,
   "id": "c18457e3-d442-4f26-9d76-7817f939f0c4",
   "metadata": {},
   "outputs": [],
   "source": []
  },
  {
   "cell_type": "code",
   "execution_count": null,
   "id": "62744402-a268-4bdd-8f3c-32b766eec1d9",
   "metadata": {},
   "outputs": [],
   "source": []
  },
  {
   "cell_type": "code",
   "execution_count": null,
   "id": "ea724150-9cfa-4e83-be8e-5157e0c019d8",
   "metadata": {},
   "outputs": [],
   "source": []
  },
  {
   "cell_type": "code",
   "execution_count": null,
   "id": "b1d7ce63-0182-4a24-aca1-a83140230430",
   "metadata": {},
   "outputs": [],
   "source": []
  },
  {
   "cell_type": "code",
   "execution_count": null,
   "id": "0e73c406-ac1b-44e4-a5b6-42f4121c509f",
   "metadata": {},
   "outputs": [],
   "source": []
  },
  {
   "cell_type": "code",
   "execution_count": null,
   "id": "5e4759fd-75b5-4908-b1af-cd23ac25e8a8",
   "metadata": {},
   "outputs": [],
   "source": []
  },
  {
   "cell_type": "code",
   "execution_count": null,
   "id": "3f274a7c-2a54-4f58-bd13-e4f0659fad87",
   "metadata": {},
   "outputs": [],
   "source": []
  },
  {
   "cell_type": "code",
   "execution_count": null,
   "id": "1633c403-dfcc-4495-8e1c-f1abda071391",
   "metadata": {},
   "outputs": [],
   "source": []
  },
  {
   "cell_type": "code",
   "execution_count": null,
   "id": "853b6292-0a5b-466b-91bf-1871bd88699f",
   "metadata": {},
   "outputs": [],
   "source": []
  },
  {
   "cell_type": "code",
   "execution_count": null,
   "id": "e087e26a-d8e0-40b6-b365-3d41967cd8d9",
   "metadata": {},
   "outputs": [],
   "source": [
    "#set up plotting area\n",
    "plt.figure(0).clf()\n",
    "plt.plot(fpr,tpr,label=\"Logistic Regression, AUC=\" + str(logit_roc_auc))\n",
    "plt.plot(fpr,tpr,label=\"Gradient Boosting, AUC=\" + str(xgbc_roc_auc))\n",
    "plt.legend()"
   ]
  },
  {
   "cell_type": "code",
   "execution_count": null,
   "id": "977e9024-3be9-4569-b05a-9623be092c01",
   "metadata": {},
   "outputs": [],
   "source": []
  }
 ],
 "metadata": {
  "kernelspec": {
   "display_name": "Python 3 (ipykernel)",
   "language": "python",
   "name": "python3"
  },
  "language_info": {
   "codemirror_mode": {
    "name": "ipython",
    "version": 3
   },
   "file_extension": ".py",
   "mimetype": "text/x-python",
   "name": "python",
   "nbconvert_exporter": "python",
   "pygments_lexer": "ipython3",
   "version": "3.9.9"
  }
 },
 "nbformat": 4,
 "nbformat_minor": 5
}
